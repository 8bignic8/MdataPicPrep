{
 "cells": [
  {
   "cell_type": "code",
   "execution_count": 1,
   "metadata": {},
   "outputs": [],
   "source": [
    "import argparse, os\n",
    "import cv2\n",
    "import numpy as np\n",
    "import imageio\n",
    "import time"
   ]
  },
  {
   "cell_type": "code",
   "execution_count": 2,
   "metadata": {},
   "outputs": [],
   "source": [
    "def savePic(picture,fileName,extention,outPath):\n",
    "    outPath = outPath+fileName+'.'+extention # combines the path with the name and extention of the file\n",
    "    try:\n",
    "        #imageio.imwrite(outPath,picture,format=extention)# old way\n",
    "        cv2.imwrite(outPath,picture)#saves Pictures \n",
    "        print(outPath+' <==== Writing')\n",
    "    except:\n",
    "        print('Failed while saving picture: '+fileName+' to '+ outPath+' sorry :(') #writes an error\n",
    "        print('--------------------')"
   ]
  },
  {
   "cell_type": "code",
   "execution_count": 3,
   "metadata": {},
   "outputs": [],
   "source": [
    "def readPicture(picturepath):\n",
    "    #  open ImageObject\n",
    "    img = cv2.imread(picturepath, cv2.IMREAD_UNCHANGED)#cv2.IMREAD_UNCHANGED is important that the output is (x,y,ChannelRGB)\n",
    "    #print(img.shape)\n",
    "    #alternative\n",
    "    #img=imageio.imread(picturepath) #liest Bild von picturepath\n",
    "    return(img)"
   ]
  },
  {
   "cell_type": "code",
   "execution_count": 4,
   "metadata": {},
   "outputs": [],
   "source": [
    "def RGBtoYUV(img): #changeing the img picture from RGB- to YUV-Color space\n",
    "    pictureYUV = cv2.cvtColor(img, cv2.COLOR_RGB2YUV)\n",
    "    return pictureYUV"
   ]
  },
  {
   "cell_type": "code",
   "execution_count": 5,
   "metadata": {},
   "outputs": [],
   "source": [
    "def YUVtoRGB(img):#changeing the img picture from YUV- to RGB-Color space\n",
    "    pictureRGB = cv2.cvtColor(img, cv2.COLOR_YUV2RGB)\n",
    "    return pictureRGB"
   ]
  },
  {
   "cell_type": "code",
   "execution_count": 7,
   "metadata": {},
   "outputs": [
    {
     "name": "stdout",
     "output_type": "stream",
     "text": [
      "This program creates Singel YUV or RGB pictures, or splits the pictures in 3 single cromagan pictures\n",
      "Path to pictures who should be converted defaut: ./hdrInput/: /home/nico/mnt/cutRawData/hdrOut/AB_JSI-GAN_x2_exp1/\n",
      "What fileextention do the to converting pictures have? [default: png]png\n",
      "There are: 56 files with the extention png in the folder\n",
      "How many do you want to convert? default: 2\n",
      "Please type in the output format default: png \n",
      "Do you want to split the pictures in single color channel 3*(x,y,1) pictures? deflaut: no (x,y,3)\n",
      "Do you want to convert the output to YUV color space? deflaut: no(RGB output)\n",
      "Where should the pictures be saved? dafault ./sdrOut/\n"
     ]
    }
   ],
   "source": [
    "print('This program creates Singel YUV or RGB pictures, or splits the pictures in 3 single cromagan pictures')\n",
    "path = input('Path to pictures who should be converted defaut: ./hdrInput/: ') or './hdrInput/'\n",
    "if not os.path.exists(path):\n",
    "            os.mkdir(path)\n",
    "inputextention = input('What fileextention do the to converting pictures have? [default: png]') or 'png'\n",
    "allFilesInDir = sum(1 for f in os.listdir(path) if f.endswith('.'+inputextention)) #summ all ending with extention\n",
    "print('There are: '+str(allFilesInDir)+' files with the extention '+inputextention+' in the folder')\n",
    "toconvert = input('How many do you want to convert? default: 2') or '2'\n",
    "outputextention = input('Please type in the output format default: png ') or 'png'\n",
    "singleP = input('Do you want to split the pictures in single color channel 3*(x,y,1) pictures? deflaut: no (x,y,3)') or 'no'\n",
    "toYUV = input('Do you want to convert the output to YUV color space? deflaut: no(RGB output)') or 'no'\n",
    "outputpath = input('Where should the pictures be saved? dafault ./sdrOut/') or './sdrOut/'"
   ]
  },
  {
   "cell_type": "code",
   "execution_count": 8,
   "metadata": {},
   "outputs": [
    {
     "name": "stdout",
     "output_type": "stream",
     "text": [
      "/home/nico/mnt/cutRawData/hdrOut/AB_JSI-GAN_x2_exp1/22-wholePic_10_0_1.hdr ====> Reading\n",
      "./sdrOut/122-wholePic_10_0_1.png <==== Writing\n",
      "/home/nico/mnt/cutRawData/hdrOut/AB_JSI-GAN_x2_exp1/04-wholePic_yuV.png ====> Reading\n",
      "./sdrOut/204-wholePic_yuV.png <==== Writing\n",
      "It took: 0.02224112351735433 Minutes to finish\n",
      "------Done------:)\n"
     ]
    }
   ],
   "source": [
    "####This program creates Singel YUV or RGB pictures or splits the pictures in 3 single cromagan pictures\n",
    "start_time = time.time() #start the timeing of the Prgramm\n",
    "i = 1 # start at the 1th element in the file system\n",
    "while (i <= int(toconvert)): # for all the inputdata in the folder do\n",
    "    name = os.listdir(path)[i] #finding the name at the current position and save it\n",
    "    picpath = path + name #combining filename and path\n",
    "    print(picpath+' ====> Reading') # prints the path and filename\n",
    "    pic = readPicture(picpath) # imports the picture and saves it in pic as matrix\n",
    "    namePic = (name.split('.')[0]) #cuts out the extention\n",
    "    \n",
    "    if (outputextention == 'png'):#if it is png save it in the PNG folder\n",
    "        #outputpath = './sdrOut/'\n",
    "        if(inputextention == 'hdr' or 'exr'):\n",
    "            pic = pic*((2 ** 10)-1) #multiplys it by the 10bit to geht the pixel depth\n",
    "            \n",
    "    if (outputextention != 'png'):# save everyting else here\n",
    "        outputpath = outputpath\n",
    "    if(toYUV != 'no'): #if the user wants to convert the output in YUV\n",
    "        pic = RGBtoYUV(pic)#converts the picture to YUV\n",
    "        \n",
    "    if(singleP != 'no'):\n",
    "        print('waring, Lossy RGB to YU-V conversion')\n",
    "        #print(pic.shape)\n",
    "        u = (pic[:,:,2]) #orders the color channels to the right output value\n",
    "        v = (pic[:,:,1]) \n",
    "        y = (pic[:,:,0])\n",
    "        if (toYUV != 'no'):\n",
    "            spaceIndi = 'u','v','y' #orders the Name to the right place\n",
    "        if (toYUV == 'no'):\n",
    "            spaceIndi = 'b','g','r'\n",
    "        print('ALl pictures will appear black')\n",
    "        savePic(u,(str(i)+'-'+spaceIndi[0]+'_'+namePic),outputextention,outputpath)#saves final singel color channel Picture\n",
    "        savePic(v,(str(i)+'-'+spaceIndi[1]+'_'+namePic),outputextention,outputpath)#saves final singel color channel Picture\n",
    "        savePic(y,(str(i)+'-'+spaceIndi[2]+'_'+namePic),outputextention,outputpath)#saves final singel color channel Picture\n",
    "    \n",
    "    if(singleP == 'no'):#just converts the pictures\n",
    "        savePic(pic,(str(i)+namePic),outputextention,outputpath)#saves final U singel channel Picture\n",
    "    i = i + 1\n",
    "print('It took: '+str((time.time() - start_time)/60)+' Minutes to finish') \n",
    "print('------Done------:)')"
   ]
  },
  {
   "cell_type": "code",
   "execution_count": 30,
   "metadata": {},
   "outputs": [
    {
     "name": "stdout",
     "output_type": "stream",
     "text": [
      "/home/nico/mnt/cutRawData/testDaten/dasistEinTest_ab.png <==== Writing\n"
     ]
    }
   ],
   "source": [
    "ab = readPicture('/home/nico/mnt/cutRawData/hdrOut/3_JSI-GAN_x2_exp4/03-wholePic_yuV.png')\n",
    "\n",
    "#ab = cv2.cvtColor(ab, cv2.COLOR_YUV2BGR)\n",
    "ab = ab * ((2 ** 10)-1)\n",
    "savePic(ab,'dasistEinTest_ab','png','/home/nico/mnt/cutRawData/testDaten/')\n",
    "\n",
    "\n"
   ]
  },
  {
   "cell_type": "code",
   "execution_count": null,
   "metadata": {},
   "outputs": [],
   "source": []
  }
 ],
 "metadata": {
  "kernelspec": {
   "display_name": "Python 3",
   "language": "python",
   "name": "python3"
  },
  "language_info": {
   "codemirror_mode": {
    "name": "ipython",
    "version": 3
   },
   "file_extension": ".py",
   "mimetype": "text/x-python",
   "name": "python",
   "nbconvert_exporter": "python",
   "pygments_lexer": "ipython3",
   "version": "3.7.4"
  }
 },
 "nbformat": 4,
 "nbformat_minor": 2
}
