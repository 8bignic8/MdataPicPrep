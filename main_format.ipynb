{
 "cells": [
  {
   "cell_type": "code",
   "execution_count": 1,
   "metadata": {},
   "outputs": [],
   "source": [
    "import h5py as h5\n",
    "import hdf5storage\n",
    "import numpy as np\n",
    "import imageio\n",
    "import mat73\n",
    "import os\n",
    "import cv2\n",
    "import random\n",
    "import time\n",
    "import argparse\n",
    "#from IPython.display import Image"
   ]
  },
  {
   "cell_type": "code",
   "execution_count": 2,
   "metadata": {},
   "outputs": [],
   "source": [
    "#Read Picture and return it\n",
    "\n",
    "def readThePicture(picturepath):\n",
    "    #  open ImageObject\n",
    "    img = cv2.imread(picturepath, cv2.IMREAD_UNCHANGED)# | cv2.IMREAD_ANYCOLOR | cv2.IMREAD_ANYDEPTH)\n",
    "    #old\n",
    "    #imageio.plugins.freeimage.download()\n",
    "    #img=imageio.imread(picturepath) #liest Bild von picturepath\n",
    "    return(img) #returns picture"
   ]
  },
  {
   "cell_type": "code",
   "execution_count": 3,
   "metadata": {},
   "outputs": [],
   "source": [
    "def tMO(file,name): #tonemapping the file\n",
    "    try:\n",
    "        if (name == 'reinhard'):\n",
    "            tom = cv2.createTonemapReinhard()\n",
    "        if (name == 'mantiuk'):\n",
    "            tom = cv2.createTonemapMantiuk()\n",
    "        if (name == 'drago'):\n",
    "            tom = cv2.createTonemapDrago()\n",
    "       # if (name == 'linear'):\n",
    "        #    tom = cv2.createTonemap()\n",
    "    except: \n",
    "        print('ToneMapping Error')\n",
    "    ldr = tom.process(file)\n",
    "    return ldr"
   ]
  },
  {
   "cell_type": "code",
   "execution_count": 4,
   "metadata": {},
   "outputs": [],
   "source": [
    "def convert(img, target_type_min, target_type_max): # converts the input array to a target type with the bounderys given\n",
    "    imin = img.min()\n",
    "    imax = img.max()\n",
    "    #print(imin)\n",
    "    a = (target_type_max - target_type_min) / (imax - imin) # generates a factor a to multiply with the img\n",
    "    b = target_type_max - a * imax\n",
    "    new_img = (a * img + b)\n",
    "    return new_img"
   ]
  },
  {
   "cell_type": "code",
   "execution_count": 5,
   "metadata": {},
   "outputs": [],
   "source": [
    "def savePic(picture,fileName,extention,outPath): #saves the given array as a pictures to the given output path\n",
    "    outPath = outPath+fileName+'.'+extention\n",
    "    try:\n",
    "        #old\n",
    "        #imageio.imwrite(outPath,picture,format=extention)#extention'')#save the Data (path with name and file extention,PictureMatrix,format)\n",
    "        #new\n",
    "        cv2.imwrite(outPath,picture)\n",
    "        print(outPath+'<=== Writing')\n",
    "    except:\n",
    "        print('Failed while saving picture: '+fileName+' to '+ outPath+' sorry :(')\n",
    "        print('--------------------')"
   ]
  },
  {
   "cell_type": "code",
   "execution_count": 6,
   "metadata": {},
   "outputs": [],
   "source": [
    "def cutPatch(begX,begY,endX,endY,picyx):#cuts out a array of a given array\n",
    "    try: \n",
    "        picyx = picyx[begY:endY,begX:endX] #format y,start:End | x,start:End\n",
    "    except:\n",
    "        print('FormatMaking Failed')\n",
    "    return picyx #returns a small part of the pic file"
   ]
  },
  {
   "cell_type": "code",
   "execution_count": 7,
   "metadata": {},
   "outputs": [],
   "source": [
    "def Randtone_map():\n",
    "        #a random tonemapping is returned\n",
    "        rand = random.SystemRandom()\n",
    "        tmNumber = round((rand.randint(0, 20)/10)) # generates a random tonempaiing nuber \n",
    "        try:\n",
    "            if (tmNumber<=0):\n",
    "                return 'reinhard' #retruns the name of the tonemapper\n",
    "            if (tmNumber==1):\n",
    "                return 'mantiuk'\n",
    "            if (tmNumber>=2):\n",
    "                return 'drago'\n",
    "           # if (tmNumber>=3):\n",
    "            #    return 'linear'\n",
    "        except:\n",
    "            print('there was an tmo Error')\n",
    "#ToDo Output in CSV to later analize"
   ]
  },
  {
   "cell_type": "code",
   "execution_count": 8,
   "metadata": {},
   "outputs": [],
   "source": [
    "def totalpatchespossible(path,amountOfPictures,extention,px,py,tokonvPic): #calculates the amount of total possible patches of the path you picked \n",
    "    arraysize = 0 #zero the output\n",
    "    amountOfPictures = amountOfPictures - 1\n",
    "    tokonvPic= (amountOfPictures-(tokonvPic))+1 #generates the stop argument \n",
    "    while (amountOfPictures) >= tokonvPic:\n",
    "        try:\n",
    "            helping = os.listdir(path)[amountOfPictures].split('.')[1] #reading the File extention\n",
    "            if ( helping == extention): #only counts files with the same extention\n",
    "                he = (path+str(os.listdir(path)[amountOfPictures])) #reading path to picture\n",
    "                print(he) #prints the name of the picture what is currently been read\n",
    "                readPic = readThePicture(he)\n",
    "                arraysize = arraysize + (int(readPic.shape[1]/px)*int(readPic.shape[0]/py))# calculate the whole size an cut away the rest even when 0.9\n",
    "        except:\n",
    "            print('fail count all patches')\n",
    "        amountOfPictures = amountOfPictures - 1\n",
    "    print('There will be >> '+str(arraysize)+' << total patches')\n",
    "    return arraysize         "
   ]
  },
  {
   "cell_type": "code",
   "execution_count": 9,
   "metadata": {
    "scrolled": true
   },
   "outputs": [],
   "source": [
    "def patchesxy(inputpic,px,py): #calculates how often the array can be devided by px in x and py in y\n",
    "    arraysize = []\n",
    "    try:\n",
    "        y = int(inputpic.shape[0]/py)# calculates the number of patches in the Y-axses cuts the picture i\n",
    "        x = int(inputpic.shape[1]/px)\n",
    "        arraysize = (x,y)\n",
    "    except:\n",
    "        print('fail calc x and y')\n",
    "    return arraysize\n",
    "        "
   ]
  },
  {
   "cell_type": "code",
   "execution_count": 10,
   "metadata": {},
   "outputs": [],
   "source": [
    "def resizePic(inputpic,factor): #reszizing the inputpic picture keeping the information but scaling it down\n",
    "    y = int((inputpic.shape[0])/factor) #multiply the Factor\n",
    "    x = int((inputpic.shape[1])/factor) #multiply the Factor\n",
    "    pic = cv2.resize(inputpic,(x,y)) \n",
    "    return pic"
   ]
  },
  {
   "cell_type": "code",
   "execution_count": 11,
   "metadata": {},
   "outputs": [],
   "source": [
    "def RGBtoYUV(img): #changeing the img picture from RGB- to YUV-Color space\n",
    "    pictureYUV = cv2.cvtColor(img, cv2.COLOR_RGB2YUV)\n",
    "    return pictureYUV"
   ]
  },
  {
   "cell_type": "code",
   "execution_count": 12,
   "metadata": {},
   "outputs": [],
   "source": [
    "def YUVtoRGB(img):#changeing the img picture from YUV- to RGB-Color space\n",
    "    pictureRGB = cv2.cvtColor(img, cv2.COLOR_YUV2RGB)\n",
    "    return pictureRGB"
   ]
  },
  {
   "cell_type": "code",
   "execution_count": 13,
   "metadata": {},
   "outputs": [],
   "source": [
    "#TO Finish\n",
    "def inputargs():#todo finish\n",
    "    parser = argparse.ArgumentParser()\n",
    "    parser.add_argument('--foo', help='foo help')\n",
    "    args = parser.parse_args()\n",
    "    "
   ]
  },
  {
   "cell_type": "code",
   "execution_count": 14,
   "metadata": {},
   "outputs": [],
   "source": [
    "# this function should return an random array with\n",
    "def randArray(allPatches, patchPerPic): \n",
    "    patchRandArray = np.zeros((patchPerPic)) #generates the array\n",
    "    rand = random.SystemRandom() #starts the rand generator\n",
    "    while(patchPerPic > 0):\n",
    "        patchnNum = round(rand.randint(0, allPatches)) #\n",
    "        if (not(patchnNum in patchRandArray)): #if number is not in array already \n",
    "            patchRandArray[patchPerPic-1] = patchnNum #write it in\n",
    "            patchPerPic = patchPerPic -1\n",
    "    return patchRandArray"
   ]
  },
  {
   "cell_type": "code",
   "execution_count": 28,
   "metadata": {},
   "outputs": [],
   "source": [
    "def returnPosFromNumber(xMax,yMax,pos): #should return one coordinat in x and y \n",
    "    ypos = 0\n",
    "    print(xMax)\n",
    "    print(yMax)\n",
    "    print(pos)\n",
    "    while((ypos <= (yMax)) and (pos>0)): #do as long there is not ont the number and also first patch must be 1,1\n",
    "        ypos = ypos +1\n",
    "        xpos = 1\n",
    "        pos = pos-1\n",
    "        while((xpos <= (xMax)) and (pos>0)): \n",
    "            xpos = xpos + 1\n",
    "            pos = pos-1 #counting down from max pos        \n",
    "    return xpos,ypos"
   ]
  },
  {
   "cell_type": "code",
   "execution_count": 37,
   "metadata": {
    "scrolled": false
   },
   "outputs": [
    {
     "name": "stdout",
     "output_type": "stream",
     "text": [
      "What fileextention is supposed to be put into patches(e.g. hdr, png) [default: hdr: ]\n",
      "hdr\n",
      "Where is the Path to the pictures (should be .hdr) [default: ./hdrInput/]\n",
      "./hdrInput/\n",
      "There are: 367 hdr Pictures in the folder\n",
      "how many Pictures do you want to cut into patches? default 1: \n",
      "1 pictures will be cut into patches\n",
      "Scale factor for Ldr LR [default:2]: \n",
      "X Patch size HDR HR [default:420px]: \n",
      "420\n",
      "Y Patch size HDR HR [default:420px]: \n",
      "420\n",
      "Do you want to convert to yuv default: no\n",
      "Should patches be saved in .mat file type: (m) oder should ist be saved as pictures (p) or saved as mat and .hdr/.png type: (mp), [default: m] \n",
      "m\n",
      "Is the dataset for testing purposes or do you want to split the output pictures in cromagan single png pictures? default: no\n",
      "Input Mat name default: data \n",
      "Input Mat directory path: ./matOut/\n",
      "Is it for the JSI-GAN converion from float32 to uint8/16? default: no\n",
      "do you want to know all patches possible? default: no\n",
      "How many patches do you want to cut out of each Picture? defualt: 200\n"
     ]
    }
   ],
   "source": [
    "#---- input section\n",
    "#TO DO add parser\n",
    "        \n",
    "start_time = time.time() #start the timeing of the Prgramm\n",
    "path = ''\n",
    "\n",
    "#data extention of the input data\n",
    "extention = input('What fileextention is supposed to be put into patches(e.g. hdr, png) [default: hdr: ]') or 'hdr'\n",
    "print(extention)\n",
    "#Where are the rawData at?\n",
    "path = input('Where is the Path to the pictures (should be .hdr) [default: ./hdrInput/]') or './hdrInput/'\n",
    "if not os.path.exists(path):\n",
    "        os.mkdir(path)\n",
    "print(path)\n",
    "inhalte = (os.listdir(path)) #list of all files in path\n",
    "amountOfPictures = 0\n",
    "\n",
    "amountOfPictures = sum(1 for f in os.listdir(path) if f.endswith('.'+extention)) #summ all data ending with right extention\n",
    "print('There are: '+str(amountOfPictures)+' '+extention+' Pictures in the folder')\n",
    "#User can choose how many pictures should be cut in patches\n",
    "tokonvPic = int(input('how many Pictures do you want to cut into patches? default 1: ') or '1')\n",
    "print(str(tokonvPic)+' pictures will be cut into patches')\n",
    "#scale factor for the low resolution is inputed\n",
    "factor = int(input('Scale factor for Ldr LR [default:2]: ') or \"2\")\n",
    "#asks for the px size of the high resolution pictures\n",
    "xaxis = int(input('X Patch size HDR HR [default:420px]: ') or \"420\")\n",
    "print(xaxis)\n",
    "yaxis = int(input('Y Patch size HDR HR [default:420px]: ') or \"420\")\n",
    "print(yaxis)\n",
    "#user can choose if the pacht-pictures should be in YU-V or RGB\n",
    "youWantYUV = input('Do you want to convert to yuv default: no') or 'no'\n",
    "#user can coose in wich folder the .mat file is stored\n",
    "savein = input('Should patches be saved in .mat file type: (m) oder should ist be saved as pictures (p) or saved as mat and .hdr/.png type: (mp), [default: m] ') or 'm'      \n",
    "print(savein)\n",
    "unit_varSdr = (np.float32)\n",
    "unit_varHdr = (np.float32)\n",
    "testing = input('Is the dataset for testing purposes or do you want to split the output pictures in cromagan single png pictures? default: no') or 'no'\n",
    "if (savein == 'p' or savein == 'mp'):\n",
    "    hrImgOut = input('Should the hdr pictures have the format hdr(yes) or png 16bit(no)? default: no (png 16bit)') or 'no'\n",
    "if (savein == 'm' or savein == 'mp'):\n",
    "    #user can choose the name for the .mat file\n",
    "    matName = input('Input Mat name default: data ') or 'data'\n",
    "    matPath = input('Input Mat directory path: ./matOut/') or './matOut/'\n",
    "    if not os.path.exists(matPath):\n",
    "            os.mkdir(matPath)\n",
    "    jsi = input('Is it for the JSI-GAN converion from float32 to uint8/16? default: no') or 'no'\n",
    "    if (jsi != 'no'):\n",
    "        unit_varSdr = (np.uint8)\n",
    "        print('SDR .mat file will be uint8')\n",
    "        unit_varHdr = (np.uint16)\n",
    "        print('HDR .mat file will be uint16')\n",
    "if (savein == 'p' or savein == 'mp'): #if user wants to output pates in picters he can choose where\n",
    "    outPathsdr = input('spezify the output path of sdr pictures [default: ./sdrOut/] ') or './sdrOut/' #set the picture save path if it is choosen\n",
    "    if not os.path.exists(outPathsdr):\n",
    "            os.mkdir(outPathsdr)\n",
    "    outPathhdr = input('spezify the output path of sdr pictures [default: ./hdrOut/] ') or './hdrOut/' #set the picture save path if it is choosen\n",
    "    if not os.path.exists(outPathhdr):\n",
    "        os.mkdir(outPathhdr)\n",
    "    #TO DO if files should all have the same name or original Filename \n",
    "if ((input('do you want to know all patches possible? default: no') or 'no')!='no'):\n",
    "    allpatches = totalpatchespossible(path,amountOfPictures,extention,xaxis,yaxis,tokonvPic)  #calc all output patches\n",
    "patchAmount = input('How many patches do you want to cut out of each Picture? defualt: 200') or '200'"
   ]
  },
  {
   "cell_type": "code",
   "execution_count": 38,
   "metadata": {
    "scrolled": true
   },
   "outputs": [
    {
     "name": "stdout",
     "output_type": "stream",
     "text": [
      "Start processing...\n",
      "366\n",
      "processing the picture: ./hdrInput/blouberg_sunrise_1_16k.hdr\n",
      "200\n",
      "[152. 406. 350. 679. 245. 542.  52. 474. 398. 171. 108.  51.  85. 249.\n",
      " 724. 654.  13. 466. 612. 550. 167. 165. 471. 214.  74. 706.  99.  34.\n",
      "  25. 358. 726. 576. 529. 658. 219.  80. 717. 603. 540. 339. 607. 407.\n",
      " 364. 582.  76. 711. 137. 674.   3. 259. 467.  72.  63. 255. 422. 439.\n",
      " 608. 341. 209. 390. 121. 251. 151. 419. 270. 606. 551.  66. 580. 614.\n",
      " 710. 359. 491. 515. 578. 622. 677. 257. 589.  21. 154. 327. 575. 353.\n",
      " 234.  41. 501. 457. 463. 231. 661. 488.  75. 619. 220. 675. 199. 733.\n",
      " 179. 461. 438.  92. 248.  50. 557. 189. 584. 731. 273. 680. 628. 194.\n",
      " 180. 113. 347. 636. 148. 333. 475. 311. 468. 298. 366.  89. 393. 436.\n",
      " 392. 703. 722. 527.  26. 363. 572. 581. 616. 102. 415. 495. 558.  16.\n",
      " 120. 715. 296. 322.  73. 100.  96. 446. 454. 123. 161.  70. 428. 548.\n",
      " 385. 712. 737.  38. 115. 672. 301.  39. 443. 394.  47. 109.  54. 630.\n",
      " 509. 254. 504. 389. 456. 583. 330. 510. 204. 304. 378. 376. 332. 634.\n",
      "  95. 274. 225. 345. 288. 692. 520. 569.  83. 122. 266.   9. 166. 690.\n",
      " 110. 297. 351. 144.]\n",
      "39\n",
      "19\n",
      "152\n",
      "(32, 4)\n",
      "Here13440jkhsadlkas13860\n",
      "Error with data maybe not an .hdr file continuing...\n",
      "HDR Matlab file will have the format\n",
      "(420, 420, 3, 200)\n",
      "Writing HDR_data.mat File to: ./matOut/\n",
      "Saved the HDR .mat file\n",
      "SDR Matlab file will have the format\n",
      "(210, 210, 3, 200)\n",
      "Writing SDR_data.mat File to: ./matOut/\n",
      "Saved the SDR .mat file\n",
      "0.0% of SDRarray numbers are bigger than 0\n",
      "0.0% of HDRarray numbers are bigger than 0\n",
      "0.33481210470199585 Minutes\n",
      "------------------------- Done --------------------\n"
     ]
    }
   ],
   "source": [
    "### write pic to .mat and/or .hdr/.png\n",
    "\n",
    "#Just for general information Data Structure JSI-Gan\n",
    "###['SDR_data'][79][79][2][39839] dtype=uint8 Strukture .mat Data\n",
    "###['HDR_data'][79][79][2][39839] dtype=uint16 Strukture .mat Data\n",
    "    \n",
    "\n",
    "#---- programm section\n",
    "\n",
    "allpatches = int(patchAmount)*int(tokonvPic) # calculates the amount of pictures total\n",
    "hdrarray = np.zeros((xaxis,yaxis,3,allpatches))#create empty np array of the size of allpatches\n",
    "hdrarray = hdrarray.astype(unit_varHdr) #changes the type of np array to uint16\n",
    "xldr = int(xaxis/factor) #calculates the samler array axes x\n",
    "yldr = int(yaxis/factor)#calculates the samler array axes y\n",
    "sdrarray = np.zeros((xldr,yldr,3,allpatches)) # creates the np array for the LR SDR array with new axes\n",
    "sdrarray = sdrarray.astype(unit_varSdr)#changes the type of np array to uint8\n",
    "#Arrays are defined in [amountOfallPatchesPossible,x,y,RGB]\n",
    "\n",
    "print('Start processing...')\n",
    "tokonvPic= (int(amountOfPictures)-int(tokonvPic))# the amount of pictures cut into pachtes is calculated\n",
    "#allpatchesSave = allpatches #all pachtes are saved\n",
    "print(tokonvPic)\n",
    "amountOfPictures = amountOfPictures - 1 # needs to count down because while counts to more than in amonut of Pictures\n",
    "while (amountOfPictures >= tokonvPic): #filling Array with pachtes from high to low, beginning with the hightes Number\n",
    "    currentFile = os.listdir(path)[amountOfPictures] #currentFile holds the name of the current position file \n",
    "    try:\n",
    "        if (currentFile.split('.')[1] == str(extention)): #checks if file is ending as wanted\n",
    "            he = (path+str(currentFile))#gives the path and name with extention of the to process file\n",
    "            print('processing the picture: '+he) #prints it to the user\n",
    "            originalPicture = readThePicture(he) #reads the currentpicture and saves it\n",
    "            \n",
    "            #print(originalPicture.max())\n",
    "            #begX = 1 #startingnumber in wich the cutting starts in X-axes\n",
    "            #endX = xaxis # sets current start pixel position at wich the cutting starts in X xaxis is the user defined size\n",
    "            \n",
    "            pxy=patchesxy(originalPicture,xaxis,yaxis) # gives back the length of the current picture (numx,numy) e.g. (3,2)\n",
    "            px= pxy[0] #saves the max x pos in px\n",
    "            py= pxy[1] #saves the max y pos in py\n",
    "            print(patchAmount)\n",
    "            patchCuts = randArray((px*py),int(patchAmount))# returns a array with the number of the position to cut\n",
    "            print(patchCuts)\n",
    "            \n",
    "            aktPatch = 0\n",
    "            while (aktPatch <= int(patchAmount)): # cut until you are at the beginning of the picture X position\n",
    "                randPosXY = returnPosFromNumber(px,py,int(patchCuts[aktPatch])) #returns the x,y coordinate within a given position\n",
    "                print(randPosXY)\n",
    "                begy = randPosXY[1]* yaxis #is the new begin Pos in y\n",
    "                begx = randPosXY[0]* xaxis #is the new begin Pos in x\n",
    "                px = begx + xaxis #is the new end Pos in x\n",
    "                py = begy + yaxis #is the new end Pos in Y\n",
    "                #begY = 1 #startingnumber in wich the cutting starts in Y-axes\n",
    "                #endY = yaxis # sets current start pixel position at wich the cutting starts in Y\n",
    "                #x = (begX*xaxis)-xaxis #start patch position in x\n",
    "                print('Here'+str(begx)+'jkhsadlkas'+str(px))\n",
    "              hjkaskdhjas  \n",
    "                while (py>=begY): # cut until you are at the beginning of the picture Y position\n",
    "                    ### reading the picture and cutting section\n",
    "                    #y = (begY*yaxis)-yaxis #start patch position in y\n",
    "                    patch = cutPatch(begx,begy,px,py,originalPicture) #make the patch and return it to the patch (floart64) array\n",
    "                    \n",
    "                    tmo = Randtone_map() # returns a random name for the tonemapping Operator to use\n",
    "                    \n",
    "                    patchLR = resizePic(patch,factor) #resize picture from Patch with the factor\n",
    "                    tmoed = tMO(patchLR,tmo) #tonemap the resized patch with the before chosen Tone Mapping Operator\n",
    "                    #print(tmoed)\n",
    "                    patch_lrtm = tmoed\n",
    "                    ####Color YUV Section\n",
    "                    if (youWantYUV != 'no'): #if change to yuv\n",
    "                        patch_lrtm = RGBtoYUV(tmoed) # changes the color space of lr sdr array\n",
    "                        patch = RGBtoYUV(patch) # changes the color space of hr hdr array\n",
    "                    ###Picture section\n",
    "                    ### Pictures will be saved as 8bit .png with the picture beeing between 0- 255 uint8\n",
    "                    ### and 16 bit .hdr with the picture beeing between 0- 2^16 float16\n",
    "                    #print('HDR MAX')\n",
    "                    if (savein == 'p' or savein == 'mp'): #save as picture if chosen\n",
    "                        #buildFilename = ((currentFile.split('.')[0])+'_'+str(allpatches-1))#builds output name \n",
    "                        buildFilename = str(allpatches-1).zfill(6)# gives the filename only an number filled up with 6 zeros (mybe better if zeros from max allpatches)\n",
    "                        # TODO Add a Input for the wanted out_format\n",
    "                        patch_lrtmp = patch_lrtm * ((2 ** 8)-1)\n",
    "                        if(testing != 'no'):\n",
    "                            spaceIndi = 'u','v','y' #orders the Name to the right place\n",
    "                            savePic((patch_lrtmp[:,:,0]),(str(allpatches-1)+'-'+spaceIndi[0]),'png',outPathsdr)#saves final singel color channel Picture\n",
    "                            savePic((patch_lrtmp[:,:,1]),(str(allpatches-1)+'-'+spaceIndi[1]),'png',outPathsdr)#saves final singel color channel Picture\n",
    "                            savePic((patch_lrtmp[:,:,2]),(str(allpatches-1)+'-'+spaceIndi[2]),'png',outPathsdr)#saves final singel color channel Picture\n",
    "                            \n",
    "                            ####Saveing the 16Bit HDR picturespatches\n",
    "                            if(hrImgOut !='no'):\n",
    "                                savePic((patch[:,:,0]),(str(allpatches-1)+'-'+spaceIndi[0]),'hdr',outPathhdr)#saves final singel color channel Picture\n",
    "                                savePic((patch[:,:,1]),(str(allpatches-1)+'-'+spaceIndi[1]),'hdr',outPathhdr)#saves final singel color channel Picture\n",
    "                                savePic((patch[:,:,2]),(str(allpatches-1)+'-'+spaceIndi[2]),'hdr',outPathhdr)#saves final singel color channel Picture\n",
    "                            \n",
    "                            \n",
    "                            #Saveing the 16Bit PNG output picturepachtes\n",
    "                            if(hrImgOut == 'no'):\n",
    "                                patchbic = patch * ((2 ** 16)-1)\n",
    "                                patchbic = patchbic.astype(np.uint16)\n",
    "                                print('(HDR)-PNG is 16 bit')\n",
    "                                savePic((patchbic[:,:,0]),(str(allpatches-1)+'-'+spaceIndi[0]),'png',outPathhdr)#saves final singel color channel Picture\n",
    "                                savePic((patchbic[:,:,1]),(str(allpatches-1)+'-'+spaceIndi[1]),'png',outPathhdr)#saves final singel color channel Picture\n",
    "                                savePic((patchbic[:,:,2]),(str(allpatches-1)+'-'+spaceIndi[2]),'png',outPathhdr)#saves final singel color channel Picture\n",
    "                            ###To DO make 16 bit PNG\n",
    "                        if(testing == 'no'):\n",
    "                            if(hrImgOut == 'no'):\n",
    "                                patchpic = patch * ((2 ** 16)-1)\n",
    "                                patchpic = patchpic.astype(np.uint16)\n",
    "                                savePic(patchpic,buildFilename,'png',outPathhdr)#change 'hdr' here for different HDR-picture save\n",
    "                            if(hrImgOut != 'no'):\n",
    "                                savePic(patch,buildFilename,'hdr',outPathhdr)#change 'hdr' here for different HDR-picture save    \n",
    "                            savePic(patch_lrtmp,buildFilename,'png',outPathsdr)#chnage 'png' here for different LDR-picture save \n",
    "\n",
    "                    if(unit_varHdr == np.uint16):\n",
    "                        patch_lrtm = patch_lrtm * ((2 ** 8)-1) \n",
    "                        patch = patch * ((2 ** 16)-1) #HDR is changed so it fitts the unit16 format and can be compared\n",
    "                        #print('HDR')\n",
    "                        #print(patch.max())\n",
    "                        #print(patch.min())\n",
    "                        #print('LDR')\n",
    "                        #print(patch_lr.max())\n",
    "                        #print(patch_lr.min())\n",
    "                        patch_lr = patch_lrtm.astype(unit_varSdr) #changes the data type in according to JSI Gan spec to uint8 for lr sdr\n",
    "                        patch = patch.astype(unit_varHdr) #changes the data type in according to JSI Gan spec to uint16 for hr hdr\n",
    "                    \n",
    "                    \n",
    "                    ###writing complete array section \n",
    "                    p = (allpatches-1) #calcualte current patch position\n",
    "                    if (savein == 'm' or savein == 'mp'):\n",
    "                        #if(unit_varHdr == np.uint8):\n",
    "                        #patch_lrtm = patch_lrtm * ((2 ** 8)-1)\n",
    "                        try:\n",
    "                            #print(patch_lrtm.shape)\n",
    "                            sdrarray[:,:,:,p] = patch_lrtm # try Write the tmoed Patch to sdrarray at current patch position\n",
    "                        except:\n",
    "                            print('Error at SDR- Array Writing :..(')\n",
    "                        try:\n",
    "                            #print(patch.shape)\n",
    "                            hdrarray[:,:,:,p] = patch # try Write the hr hdr Patch to hdrarray at current patch position\n",
    "                        except:\n",
    "                            print('Error at HDR- Array Writing :..(')\n",
    "                        \n",
    "                        \n",
    "                    #begY = begY + 1 #Counts up from 1 to all possible cuts of the current picture in Y\n",
    "                    #endY = endY + yaxis #Counts up the position from endY in yaxis steps\n",
    "                    allpatches = allpatches - 1 #Counts down all patches of all pictures to 0\n",
    "                    print('Patch === '+str(allpatches)+' ==> Done')\n",
    "                #begX = begX + 1 #Counts up from 1 to all possible cuts of the current picture in X\n",
    "                #endX = endX + xaxis # Counts up the position from endX in xaxis steps\n",
    "                aktPatch = aktPatch + 1\n",
    "    except:\n",
    "        print('Error with data maybe not an .hdr file continuing...')  \n",
    "    amountOfPictures = amountOfPictures - 1 #counts down current picture pos\n",
    "if (savein == 'mp' or savein == 'm' ): #only makes a Matlap File if wanted\n",
    "    try:\n",
    "        matLabel = 'HDR_data'\n",
    "        if(testing != 'no'):\n",
    "            matLabel = 'HDR_YUV'\n",
    "            print('testdata')\n",
    "        # Write TO HDR.Mat File\n",
    "        h5.get_config().default_file_mode = 'a' #write enable\n",
    "        matfilehdrdataHDR = {} # make a dictionary to store the MAT data in\n",
    "        print('HDR Matlab file will have the format')\n",
    "        print(hdrarray.shape)\n",
    "        matfilehdrdataHDR[u''+matLabel] = hdrarray #save hdr array in that dictonary\n",
    "        print('Writing HDR_'+matName+'.mat File to: '+ matPath)\n",
    "        hdf5storage.write(matfilehdrdataHDR, '.', matPath+'HDR_'+matName+'.mat', matlab_compatible=True) #output the .mat data file\n",
    "        print('Saved the HDR .mat file')\n",
    "\n",
    "        #####Writing SDR .mat \n",
    "        #Switches the first with the last array Field \n",
    "        matfilesdrdatasdr = {} # make a dictionary to store the MAT data in\n",
    "        matLabel = 'SDR_data'\n",
    "        if(testing != 'no'):\n",
    "            matLabel = 'SDR_YUV'\n",
    "            print('testdata')\n",
    "        print('SDR Matlab file will have the format')\n",
    "        print(sdrarray.shape)\n",
    "        matfilesdrdatasdr[u''+matLabel] = sdrarray #save sdr array in that dictonary\n",
    "        print('Writing SDR_'+matName+'.mat File to: '+ matPath)\n",
    "        hdf5storage.write(matfilesdrdatasdr, '.', matPath+'SDR_'+matName+'.mat', matlab_compatible=True) #output the .mat data file\n",
    "        print('Saved the SDR .mat file')\n",
    "    except:\n",
    "        print('error at writing matlab file sorry :(')\n",
    "\n",
    "    sdrpro = (np.count_nonzero(sdrarray)/sdrarray.size)*100        \n",
    "    print(str(sdrpro)+'% of SDRarray numbers are bigger than 0')\n",
    "\n",
    "    sdrpro = (np.count_nonzero(hdrarray)/hdrarray.size)*100        \n",
    "    print(str(sdrpro)+'% of HDRarray numbers are bigger than 0')\n",
    "\n",
    "print(str((time.time() - start_time)/60)+' Minutes') #outputs the time in minutes\n",
    "print('------------------------- Done --------------------')"
   ]
  },
  {
   "cell_type": "code",
   "execution_count": 16,
   "metadata": {},
   "outputs": [],
   "source": [
    "#python3 main.py --phase train --scale_factor 2 --train_data_path_LR_SDR ./SDR_data.mat --train_data_path_HR_HDR ./HDR_data.mat --epoch 5 --batch_size 4"
   ]
  },
  {
   "cell_type": "code",
   "execution_count": 19,
   "metadata": {},
   "outputs": [
    {
     "data": {
      "text/plain": [
       "99.99998979948855"
      ]
     },
     "execution_count": 19,
     "metadata": {},
     "output_type": "execute_result"
    }
   ],
   "source": [
    "### gives the amount of nuberst larger than 0 in percent\n",
    "#np.count_nonzero(ab)\n",
    "(np.count_nonzero(sdrarray)/sdrarray.size)*100"
   ]
  },
  {
   "cell_type": "code",
   "execution_count": 25,
   "metadata": {},
   "outputs": [
    {
     "ename": "NameError",
     "evalue": "name 'randPosXY' is not defined",
     "output_type": "error",
     "traceback": [
      "\u001b[0;31m---------------------------------------------------------------------------\u001b[0m",
      "\u001b[0;31mNameError\u001b[0m                                 Traceback (most recent call last)",
      "\u001b[0;32m<ipython-input-25-2079e384fea2>\u001b[0m in \u001b[0;36m<module>\u001b[0;34m\u001b[0m\n\u001b[0;32m----> 1\u001b[0;31m \u001b[0mrandPosXY\u001b[0m\u001b[0;34m\u001b[0m\u001b[0;34m\u001b[0m\u001b[0m\n\u001b[0m",
      "\u001b[0;31mNameError\u001b[0m: name 'randPosXY' is not defined"
     ]
    }
   ],
   "source": [
    "randPosXY"
   ]
  },
  {
   "cell_type": "code",
   "execution_count": 20,
   "metadata": {},
   "outputs": [
    {
     "data": {
      "text/plain": [
       "99.99995766787747"
      ]
     },
     "execution_count": 20,
     "metadata": {},
     "output_type": "execute_result"
    }
   ],
   "source": [
    "#np.count_nonzero(ab)\n",
    "(np.count_nonzero(hdrarray)/hdrarray.size)*100"
   ]
  },
  {
   "cell_type": "code",
   "execution_count": 21,
   "metadata": {},
   "outputs": [],
   "source": [
    "#python3 train.py --batch_size 100 -d ./hdrData -s ./pathToSaceChepoints "
   ]
  },
  {
   "cell_type": "code",
   "execution_count": 20,
   "metadata": {},
   "outputs": [],
   "source": [
    "#python3 main.py --phase test_mat --scale_factor 2 --train_data_path_LR_SDR ./SDR_data.mat --train_data_path_HR_HDR ./HDR_data.mat --test_data_path_LR_SDR /home/nico/programm/MdataPicPrep/matOut/SDR_data.mat --test_data_path_HR_HDR /home/nico/programm/MdataPicPrep/matOut/HDR_data.mat --batch_size 4"
   ]
  }
 ],
 "metadata": {
  "kernelspec": {
   "display_name": "Python 3",
   "language": "python",
   "name": "python3"
  },
  "language_info": {
   "codemirror_mode": {
    "name": "ipython",
    "version": 3
   },
   "file_extension": ".py",
   "mimetype": "text/x-python",
   "name": "python",
   "nbconvert_exporter": "python",
   "pygments_lexer": "ipython3",
   "version": "3.7.4"
  }
 },
 "nbformat": 4,
 "nbformat_minor": 2
}
