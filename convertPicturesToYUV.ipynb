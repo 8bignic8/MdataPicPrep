{
 "cells": [
  {
   "cell_type": "code",
   "execution_count": 32,
   "metadata": {},
   "outputs": [],
   "source": [
    "import argparse, os\n",
    "import cv2\n",
    "import numpy as np\n",
    "import imageio\n",
    "import time"
   ]
  },
  {
   "cell_type": "code",
   "execution_count": 33,
   "metadata": {},
   "outputs": [],
   "source": [
    "def savePic(picture,fileName,extention,outPath):\n",
    "    outPath = outPath+fileName+'.'+extention # combines the path with the name and extention of the file\n",
    "    print(outPath)\n",
    "    try:\n",
    "        #imageio.imwrite(outPath,picture,format=extention)# old way\n",
    "        cv2.imwrite(outPath,picture)#saves Pictures \n",
    "    except:\n",
    "        print('Failed while saving picture: '+fileName+' to '+ outPath+' sorry :(') #writes an error\n",
    "        print('--------------------')"
   ]
  },
  {
   "cell_type": "code",
   "execution_count": 34,
   "metadata": {},
   "outputs": [],
   "source": [
    "def readPicture(picturepath):\n",
    "    #  open ImageObject\n",
    "    img = cv2.imread(picturepath, cv2.IMREAD_UNCHANGED)#cv2.IMREAD_UNCHANGED is important that the output is (x,y,ChannelRGB)\n",
    "    #print(img.shape)\n",
    "    #alternative\n",
    "    #img=imageio.imread(picturepath) #liest Bild von picturepath\n",
    "    return(img)"
   ]
  },
  {
   "cell_type": "code",
   "execution_count": 35,
   "metadata": {},
   "outputs": [],
   "source": [
    "def RGBtoYUV(img): #changeing the img picture from RGB- to YUV-Color space\n",
    "    pictureYUV = cv2.cvtColor(img, cv2.COLOR_RGB2YUV)\n",
    "    return pictureYUV"
   ]
  },
  {
   "cell_type": "code",
   "execution_count": 36,
   "metadata": {},
   "outputs": [
    {
     "name": "stdout",
     "output_type": "stream",
     "text": [
      "Path to pictures who should be converted defaut: ./hdrInput/: \n",
      "What fileextention do the to converting pictures have? [default: png]hdr\n",
      "There are: 1 files with the extention hdr in the folder\n",
      "Please type in the output format default: png \n"
     ]
    }
   ],
   "source": [
    "path = input('Path to pictures who should be converted defaut: ./hdrInput/: ') or './hdrInput/'\n",
    "if not os.path.exists(path):\n",
    "            os.mkdir(path)\n",
    "inputextention = input('What fileextention do the to converting pictures have? [default: png]') or 'png'\n",
    "allFilesInDir = sum(1 for f in os.listdir(path) if f.endswith('.'+inputextention)) #summ all ending with extention\n",
    "print('There are: '+str(allFilesInDir)+' files with the extention '+inputextention+' in the folder')\n",
    "outputextention = input('Please type in the output format default: png ') or 'png'\n"
   ]
  },
  {
   "cell_type": "code",
   "execution_count": 39,
   "metadata": {},
   "outputs": [
    {
     "name": "stdout",
     "output_type": "stream",
     "text": [
      "./hdrInput/2020-10-02 at 11-01-17_prediction.hdr\n",
      "waring, Lossy RGB to YU-V conversion\n"
     ]
    }
   ],
   "source": [
    "####This file creates Y.png U.png and V.png cromagan pictures\n",
    "#TO DO normal Pic to YUV einzelbildern\n",
    "allFilesInDir = sum(1 for f in os.listdir(path) if f.endswith('.'+inputextention)) #summ all ending with extention\n",
    "i = 1 # start at the 0th element in the file system\n",
    "while (i <= allFilesInDir): # for all the inputdata in the folder do\n",
    "    name = os.listdir(path)[i] #finding the name at the current position and save it\n",
    "    picpath = path + name #combining filename and path\n",
    "    print(picpath) # prints the path and filename\n",
    "    pic = readPicture(picpath) # imports the picture and saves it in pic as matrix\n",
    "    print('waring, Lossy RGB to YU-V conversion')\n",
    "    #print(pic.shape)\n",
    "    yuvPic = RGBtoYUV(pic)#.astype(np.uint8) # converts the picture to YUV\n",
    "    u = (yuvPic[:,:,2]) #orders the color channels to the right output value\n",
    "    v = (yuvPic[:,:,1]) \n",
    "    y = (yuvPic[:,:,0])\n",
    "    namePic = (name.split('.')[0]) #cuts out the extention\n",
    "    if (inputextention == 'png'):\n",
    "        outputpath = './sdrOut/'\n",
    "    if (inputextention != 'png'):\n",
    "        outputpath = './hdrOut/'\n",
    "    savePic(u,(str(i)+'-u_'+namePic),outputextention,outputpath)#saves final U singel channel Picture\n",
    "    savePic(v,(str(i)+'-v_'+namePic),outputextention,outputpath)#saves final v singel channel Picture\n",
    "    savePic(y,(str(i)+'-y_'+namePic),outputextention,outputpath)#saves final Y singel channel Picture\n",
    "    i = i + 1"
   ]
  },
  {
   "cell_type": "code",
   "execution_count": 30,
   "metadata": {},
   "outputs": [
    {
     "name": "stdout",
     "output_type": "stream",
     "text": [
      "2020-10-02 at 11-01-17_prediction\n"
     ]
    }
   ],
   "source": [
    "print(name.split('.')[0])"
   ]
  },
  {
   "cell_type": "code",
   "execution_count": null,
   "metadata": {},
   "outputs": [],
   "source": []
  }
 ],
 "metadata": {
  "kernelspec": {
   "display_name": "Python 3",
   "language": "python",
   "name": "python3"
  },
  "language_info": {
   "codemirror_mode": {
    "name": "ipython",
    "version": 3
   },
   "file_extension": ".py",
   "mimetype": "text/x-python",
   "name": "python",
   "nbconvert_exporter": "python",
   "pygments_lexer": "ipython3",
   "version": "3.7.4"
  }
 },
 "nbformat": 4,
 "nbformat_minor": 2
}
