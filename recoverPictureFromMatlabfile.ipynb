{
 "cells": [
  {
   "cell_type": "code",
   "execution_count": 1,
   "metadata": {},
   "outputs": [],
   "source": [
    "import h5py as h5\n",
    "import hdf5storage\n",
    "import numpy as np\n",
    "import imageio\n",
    "import mat73\n",
    "import os\n",
    "import cv2\n",
    "import time\n",
    "import argparse"
   ]
  },
  {
   "cell_type": "code",
   "execution_count": 2,
   "metadata": {},
   "outputs": [],
   "source": [
    "def savePic(picture,fileName,extention,outPath): #saves the given array as a pictures to the given output path\n",
    "    outPath = outPath+fileName+'.'+extention\n",
    "    print(outPath)\n",
    "    try:\n",
    "        #old\n",
    "        #imageio.imwrite(outPath,picture,format=extention)#extention'')#save the Data (path with name and file extention,PictureMatrix,format)\n",
    "        #new\n",
    "        cv2.imwrite(outPath,picture)\n",
    "    except:\n",
    "        print('Failed while saving picture: '+fileName+' to '+ outPath+' sorry :(')\n",
    "        print('--------------------')"
   ]
  },
  {
   "cell_type": "code",
   "execution_count": 3,
   "metadata": {},
   "outputs": [],
   "source": [
    "def YUVtoRGB(img):\n",
    "    pictureYUV = cv2.cvtColor(img, cv2.COLOR_YUV2RGB, cv2.IMREAD_UNCHANGED) #uses the CV2 method to convert the color space from YU-V to RGB\n",
    "    return pictureYUV"
   ]
  },
  {
   "cell_type": "code",
   "execution_count": 4,
   "metadata": {},
   "outputs": [],
   "source": [
    "def convert(img, target_type_min, target_type_max): # converts the input array to target bounderys given\n",
    "    imin = img.min()\n",
    "    imax = img.max()\n",
    "    a = (target_type_max - target_type_min) / (imax - imin)\n",
    "    b = target_type_max - a * imax\n",
    "    new_img = (a * img + b)\n",
    "    return new_img"
   ]
  },
  {
   "cell_type": "code",
   "execution_count": 12,
   "metadata": {},
   "outputs": [],
   "source": [
    "# Reads a matlab file and saves the pictures in the .png or .hdr Format\n",
    "def recoverpic(pathToFile):\n",
    "    \n",
    "#input part\n",
    "    mat = hdf5storage.loadmat(pathToFile) #loads the matlab file\n",
    "    key = mat.keys() #reads the mat key\n",
    "    key = str(key).split('\\'')[1] # saves the keyname(HDR,SDR) in key\n",
    "    allPictures = int((mat[key][0,0,0,:]).shape[0]) # reads the amount of pictures in the .mat file\n",
    "    if (key.split('_')[0] == 'SDR'):\n",
    "        sdrOutPath = input('Where should the SDR data be saved?[default: ./sdrOut/ ]: ') or './sdrOut/'\n",
    "        if not os.path.exists(sdrOutPath):\n",
    "            os.mkdir(sdrOutPath)\n",
    "    if (key.split('_')[0] != 'SDR'):\n",
    "        hdrOutPath = input('Where should the HDR data be saved?[default: ./hdrOut/ ]: ') or './hdrOut/'\n",
    "        if not os.path.exists(hdrOutPath):\n",
    "            os.mkdir(hdrOutPath)    \n",
    "    numberOfP = input('How many pictures from: '+str(allPictures)+' should be saved?[default: 23 ]: ') or '23'#str(allPictures-1)\n",
    "    numberOfP = int(numberOfP) #forms the input(string) into an integer \n",
    "    onePic = input('Do you want it split in single Y.png U.png V.png?  default: no') or 'no'\n",
    "    if (onePic == 'no'):\n",
    "        fileName = input('what should be the name of the outputfiles? default: out_ ') or 'out_'\n",
    "    toPictures = allPictures - numberOfP\n",
    "    #print(key)\n",
    "    #print(str(key).split('_')[0])\n",
    "    \n",
    "    #=======Main program start\n",
    "    if (key.split('_')[0] == 'HDR'):\n",
    "        print('HDR pictures found in matlab file')\n",
    "        if (onePic != 'no'):\n",
    "            print('the single PNG pictures will be black but contain the Information if you put them together')\n",
    "        while (toPictures <= int(allPictures)-1):\n",
    "            picture = (mat[key][:,:,:,toPictures])#.astype(np.uint16) # create an array with the right size\n",
    "            print('Writing HDR picture to: ')\n",
    "            i = 0\n",
    "            if (onePic == 'no'):\n",
    "                #picture = picture *((2 ** 10)-1)\n",
    "                k = 'HDR_'+fileName+str(toPictures)\n",
    "                savePic(picture,k,'hdr',hdrOutPath)\n",
    "                picture = picture.astype(np.uint16)\n",
    "                savePic(picture,k,'png',hdrOutPath)\n",
    "            if (onePic != 'no'):\n",
    "                while(i<=2):\n",
    "                    if(i==1):\n",
    "                        outName = str(toPictures)+'-u_pred'\n",
    "                    if(i==0):\n",
    "                        outName = str(toPictures)+'-y_pred'\n",
    "                    if(i==2):\n",
    "                        outName = str(toPictures)+'-v_pred'\n",
    "                    savePic((picture[:,:,i]),outName,'png',hdrOutPath) #it saves as a 16bit .png with one single color channel\n",
    "                    i = i + 1\n",
    "            toPictures = toPictures+1\n",
    "        print('finished writing hdr pictures to: ' + hdrOutPath)\n",
    "    \n",
    "    ### SDR area\n",
    "    print('SDR')\n",
    "    if (key.split('_')[0] == 'SDR'):\n",
    "        print('SDR pictures found in matlab file')\n",
    "        if (onePic != 'no'):\n",
    "            print('the single PNG pictures will be black but contain all the information, just put them together')\n",
    "        while (toPictures <= allPictures-1):\n",
    "            picture = mat[key][:,:,:,toPictures]#.astype(np.uint8)\n",
    "            ###TO DO Change if not Float32!!!!!!!!!!!!!!!!!!!!!!!!!!!!!!!!\n",
    "            #picture = convert(picture,0,((2 ** 8)-1))\n",
    "            i = 0\n",
    "            print('Writing PNG picture to: ')\n",
    "            if (onePic == 'no'):\n",
    "                k = 'SDR_'+fileName+str(toPictures)\n",
    "                savePic(picture,k,'png',sdrOutPath)\n",
    "            if (onePic != 'no'):\n",
    "                while(i<=2):\n",
    "                    if(i==2):\n",
    "                        outName = str(toPictures)+'-v_pred'\n",
    "                    if(i==1):\n",
    "                        outName = str(toPictures)+'-u_pred'\n",
    "                    if(i==0):\n",
    "                        outName = str(toPictures)+'-y_pred'\n",
    "                    savePic((picture[:,:,i]),outName,'png',sdrOutPath) #it saves as a 8bit .png with one single color channel\n",
    "                    i = i + 1\n",
    "            toPictures = toPictures+1\n",
    "        print('finished writing sdr pictures to: ' + sdrOutPath)      "
   ]
  },
  {
   "cell_type": "code",
   "execution_count": 13,
   "metadata": {
    "scrolled": true
   },
   "outputs": [
    {
     "name": "stdout",
     "output_type": "stream",
     "text": [
      "Important: This is a program that recovers pictures saved as a .mat file via uint8 or uint16 format and SDR/ HDR label.\n",
      "Please insert the path to your .mat picture file default: ./matOut/\n",
      "Please type the name of the matlapfile default: HDR_data.matHDR_recover.mat\n",
      "Where should the HDR data be saved?[default: ./hdrOut/ ]: \n",
      "How many pictures from: 3 should be saved?[default: 23 ]: 3\n",
      "Do you want it split in single Y.png U.png V.png?  default: no\n",
      "what should be the name of the outputfiles? default: out_ asadsasddsaadsasdasd\n",
      "HDR pictures found in matlab file\n",
      "Writing HDR picture to: \n",
      "./hdrOut/HDR_asadsasddsaadsasdasd0.hdr\n",
      "./hdrOut/HDR_asadsasddsaadsasdasd0.png\n",
      "Writing HDR picture to: \n",
      "./hdrOut/HDR_asadsasddsaadsasdasd1.hdr\n",
      "./hdrOut/HDR_asadsasddsaadsasdasd1.png\n",
      "Writing HDR picture to: \n",
      "./hdrOut/HDR_asadsasddsaadsasdasd2.hdr\n",
      "./hdrOut/HDR_asadsasddsaadsasdasd2.png\n",
      "finished writing hdr pictures to: ./hdrOut/\n",
      "SDR\n",
      "3.2662559946378074Minutes\n",
      "------------------------- Done --------------------\n"
     ]
    }
   ],
   "source": [
    "start_time = time.time()\n",
    "print('Important: This is a program that recovers pictures saved as a .mat file via uint8 or uint16 format and SDR/ HDR label.')\n",
    "try:\n",
    "    pathtomat = input('Please insert the path to your .mat picture file default: ./matOut/') or './matOut/'\n",
    "    name = input('Please type the name of the matlapfile default: HDR_data.mat') or 'HDR_data.mat'\n",
    "    if not os.path.exists(pathtomat): #makes the drectory if it is not there\n",
    "        os.mkdir(pathtomat)\n",
    "    recov = pathtomat+name #puts together the filepath and name\n",
    "    recoverpic(recov) #starts the recovery prozess\n",
    "    \n",
    "except: \n",
    "    print('decoding .mat failed')\n",
    "print(str((time.time() - start_time)/60)+'Minutes') #outputs the time in minutes\n",
    "print('------------------------- Done --------------------')"
   ]
  },
  {
   "cell_type": "code",
   "execution_count": null,
   "metadata": {},
   "outputs": [],
   "source": []
  }
 ],
 "metadata": {
  "kernelspec": {
   "display_name": "Python 3",
   "language": "python",
   "name": "python3"
  },
  "language_info": {
   "codemirror_mode": {
    "name": "ipython",
    "version": 3
   },
   "file_extension": ".py",
   "mimetype": "text/x-python",
   "name": "python",
   "nbconvert_exporter": "python",
   "pygments_lexer": "ipython3",
   "version": "3.7.4"
  }
 },
 "nbformat": 4,
 "nbformat_minor": 2
}
