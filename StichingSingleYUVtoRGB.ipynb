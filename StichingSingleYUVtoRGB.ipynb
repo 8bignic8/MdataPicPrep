{
 "cells": [
  {
   "cell_type": "code",
   "execution_count": 2,
   "metadata": {},
   "outputs": [],
   "source": [
    "import argparse, os\n",
    "import cv2\n",
    "import numpy as np\n",
    "import imageio\n",
    "import time"
   ]
  },
  {
   "cell_type": "code",
   "execution_count": 3,
   "metadata": {},
   "outputs": [],
   "source": [
    "def readPicture(picturepath):\n",
    "    #  open ImageObject\n",
    "    img = cv2.imread(picturepath, cv2.IMREAD_UNCHANGED)#cv2.IMREAD_UNCHANGED is important that the output is (x,y,ChannelRGB)\n",
    "    return(img)"
   ]
  },
  {
   "cell_type": "code",
   "execution_count": 4,
   "metadata": {},
   "outputs": [],
   "source": [
    "def savePic(picture,fileName,extention,outPath):\n",
    "    outPath = outPath+fileName+'.'+extention # combines the path with the name and extention of the file\n",
    "    print(outPath)\n",
    "    try:\n",
    "        #imageio.imwrite(outPath,picture,format=extention)# old way\n",
    "        cv2.imwrite(outPath,picture)#saves Pictures \n",
    "    except:\n",
    "        print('Failed while saving picture: '+fileName+' to '+ outPath+' sorry :(') #writes an error\n",
    "        print('--------------------')"
   ]
  },
  {
   "cell_type": "code",
   "execution_count": 5,
   "metadata": {},
   "outputs": [],
   "source": [
    "def YUVtoRGB(img):\n",
    "    pictureRGB = cv2.cvtColor(c, cv2.COLOR_YUV2BGR, cv2.IMREAD_UNCHANGED) #uses the CV2 method to convert the color space from YU-V to RGB\n",
    "    #pictureYUV = cv2.cvtColor(img, cv2.COLOR_BGR2YUV, cv2.IMREAD_UNCHANGED)\n",
    "    return pictureRGB"
   ]
  },
  {
   "cell_type": "code",
   "execution_count": null,
   "metadata": {},
   "outputs": [],
   "source": []
  },
  {
   "cell_type": "code",
   "execution_count": null,
   "metadata": {},
   "outputs": [],
   "source": []
  },
  {
   "cell_type": "code",
   "execution_count": null,
   "metadata": {},
   "outputs": [],
   "source": [
    "    "
   ]
  },
  {
   "cell_type": "code",
   "execution_count": 6,
   "metadata": {},
   "outputs": [
    {
     "name": "stdout",
     "output_type": "stream",
     "text": [
      "Pictures in the folder need to have the format: [number]-[y]or[u]or[v].png e.g. : 28-y_pred.png,28-u_pred.png,28-v_pred.png\n",
      "FILENAME MUST HAVE the format: 23-y_pred !\n",
      "Path to pictures who should be converted defaut: ./yuvPic/: /Users/littledragon/Documents/BA 13022020/Daten/test/JSI-GAN_x2_exp1/\n",
      "What fileextention do the to read pictures have? [default: png]\n",
      "Please type outputextention[default: hdr]: \n",
      "Where to write the stiched pictures to? [default: ./hdrOut/]: \n",
      "What should be the name of the stiched pictures? [default: pred]Big_\n",
      "Do you want to keep YUV color space type y? [deflaut: no (RGB_color space)]\n"
     ]
    },
    {
     "ename": "FileNotFoundError",
     "evalue": "[Errno 2] No such file or directory: '/Users/littledragon/Documents/BA 13022020/Daten/test/JSI-GAN_x2_exp1/'",
     "output_type": "error",
     "traceback": [
      "\u001b[0;31m---------------------------------------------------------------------------\u001b[0m",
      "\u001b[0;31mFileNotFoundError\u001b[0m                         Traceback (most recent call last)",
      "\u001b[0;32m<ipython-input-6-6ecf36dfbc5c>\u001b[0m in \u001b[0;36m<module>\u001b[0;34m\u001b[0m\n\u001b[1;32m      9\u001b[0m \u001b[0mnamePic\u001b[0m \u001b[0;34m=\u001b[0m \u001b[0minput\u001b[0m\u001b[0;34m(\u001b[0m\u001b[0;34m'What should be the name of the stiched pictures? [default: pred]'\u001b[0m\u001b[0;34m)\u001b[0m \u001b[0;32mor\u001b[0m \u001b[0;34m'predictedPic'\u001b[0m\u001b[0;34m\u001b[0m\u001b[0;34m\u001b[0m\u001b[0m\n\u001b[1;32m     10\u001b[0m \u001b[0mwantYUV\u001b[0m \u001b[0;34m=\u001b[0m \u001b[0minput\u001b[0m\u001b[0;34m(\u001b[0m\u001b[0;34m'Do you want to keep YUV color space type y? [deflaut: no (RGB_color space)]'\u001b[0m\u001b[0;34m)\u001b[0m \u001b[0;32mor\u001b[0m \u001b[0;34m'no'\u001b[0m\u001b[0;34m\u001b[0m\u001b[0;34m\u001b[0m\u001b[0m\n\u001b[0;32m---> 11\u001b[0;31m \u001b[0maOp\u001b[0m \u001b[0;34m=\u001b[0m \u001b[0msum\u001b[0m\u001b[0;34m(\u001b[0m\u001b[0;36m1\u001b[0m \u001b[0;32mfor\u001b[0m \u001b[0mf\u001b[0m \u001b[0;32min\u001b[0m \u001b[0mos\u001b[0m\u001b[0;34m.\u001b[0m\u001b[0mlistdir\u001b[0m\u001b[0;34m(\u001b[0m\u001b[0mpath\u001b[0m\u001b[0;34m)\u001b[0m \u001b[0;32mif\u001b[0m \u001b[0mf\u001b[0m\u001b[0;34m.\u001b[0m\u001b[0mendswith\u001b[0m\u001b[0;34m(\u001b[0m\u001b[0;34m'.'\u001b[0m\u001b[0;34m+\u001b[0m\u001b[0minputextention\u001b[0m\u001b[0;34m)\u001b[0m\u001b[0;34m)\u001b[0m \u001b[0;31m#summ all ending with extention\u001b[0m\u001b[0;34m\u001b[0m\u001b[0;34m\u001b[0m\u001b[0m\n\u001b[0m",
      "\u001b[0;31mFileNotFoundError\u001b[0m: [Errno 2] No such file or directory: '/Users/littledragon/Documents/BA 13022020/Daten/test/JSI-GAN_x2_exp1/'"
     ]
    }
   ],
   "source": [
    "#toDo Add parser with args\n",
    "###### Imput section\n",
    "print('Pictures in the folder need to have the format: [number]-[y]or[u]or[v].png e.g. : 28-y_pred.png,28-u_pred.png,28-v_pred.png')\n",
    "print('FILENAME MUST HAVE the format: 23-y_pred !')\n",
    "path = input('Path to pictures who should be converted defaut: ./yuvPic/: ') or './yuvPic/'\n",
    "inputextention = input('What fileextention do the to read pictures have? [default: png]') or 'png'\n",
    "outputextention = input('Please type outputextention[default: hdr]: ') or 'hdr'\n",
    "outputpath = input('Where to write the stiched pictures to? [default: ./hdrOut/]: ') or './hdrOut/'\n",
    "namePic = input('What should be the name of the stiched pictures? [default: pred]') or 'predictedPic'\n",
    "wantYUV = input('Do you want to keep YUV color space type y? [deflaut: no (RGB_color space)]') or 'no'\n",
    "aOp = sum(1 for f in os.listdir(path) if f.endswith('.'+inputextention)) #summ all ending with extention"
   ]
  },
  {
   "cell_type": "code",
   "execution_count": 1,
   "metadata": {
    "scrolled": true
   },
   "outputs": [
    {
     "ename": "NameError",
     "evalue": "name 'time' is not defined",
     "output_type": "error",
     "traceback": [
      "\u001b[0;31m---------------------------------------------------------------------------\u001b[0m",
      "\u001b[0;31mNameError\u001b[0m                                 Traceback (most recent call last)",
      "\u001b[0;32m<ipython-input-1-e843e2c461b8>\u001b[0m in \u001b[0;36m<module>\u001b[0;34m\u001b[0m\n\u001b[1;32m      1\u001b[0m \u001b[0;31m#Working Version 10022021\u001b[0m\u001b[0;34m\u001b[0m\u001b[0;34m\u001b[0m\u001b[0;34m\u001b[0m\u001b[0m\n\u001b[0;32m----> 2\u001b[0;31m \u001b[0mstart_time\u001b[0m \u001b[0;34m=\u001b[0m \u001b[0mtime\u001b[0m\u001b[0;34m.\u001b[0m\u001b[0mtime\u001b[0m\u001b[0;34m(\u001b[0m\u001b[0;34m)\u001b[0m \u001b[0;31m#start Timer\u001b[0m\u001b[0;34m\u001b[0m\u001b[0;34m\u001b[0m\u001b[0m\n\u001b[0m\u001b[1;32m      3\u001b[0m \u001b[0;31m#TO DO Parser\u001b[0m\u001b[0;34m\u001b[0m\u001b[0;34m\u001b[0m\u001b[0;34m\u001b[0m\u001b[0m\n\u001b[1;32m      4\u001b[0m \u001b[0;31m#desc ='yuv to RGB'\u001b[0m\u001b[0;34m\u001b[0m\u001b[0;34m\u001b[0m\u001b[0;34m\u001b[0m\u001b[0m\n\u001b[1;32m      5\u001b[0m \u001b[0;31m#parser = argparse.ArgumentParser(description=desc)\u001b[0m\u001b[0;34m\u001b[0m\u001b[0;34m\u001b[0m\u001b[0;34m\u001b[0m\u001b[0m\n",
      "\u001b[0;31mNameError\u001b[0m: name 'time' is not defined"
     ]
    }
   ],
   "source": [
    "#Working Version 10022021\n",
    "start_time = time.time() #start Timer\n",
    "#TO DO Parser\n",
    "#desc ='yuv to RGB'\n",
    "#parser = argparse.ArgumentParser(description=desc)\n",
    "#parser.add_argument('--yuv', type=str, default='./', help='path to Folder of yuv images')\n",
    "#print(parser.parse_args())\n",
    "#what, b = parser.parse_known_args()\n",
    "\n",
    "#if what.yuv == './' :\n",
    " #   print('yes')\n",
    "start_time = time.time()\n",
    "i = 0\n",
    "print(aOp)\n",
    "while (i <= aOp-1 ): # read y\n",
    "    print(i)\n",
    "    try:\n",
    "        if ((str(os.listdir(path)[i]).split('-')[1]).split('_')[0]) == 'y': # only searching for y picitures\n",
    "            name = os.listdir(path)[i] #finding the Name\n",
    "            print(name +' should be the Y')\n",
    "            picpath = path + name #combining Name and path\n",
    "            picy = readPicture(picpath) #reads a pic y to find the x,y axes should be the same for all pictures\n",
    "            #print(picy)\n",
    "            yuvPic = np.zeros((int(picy.shape[0]),int(picy.shape[1]),3)) # generates the x and y achses and channels of picture\n",
    "            yuvPic[:,:,0] = picy # packs the Y in pos 1\n",
    "            num = (str(os.listdir(path)[i]).split('-')[0])#.split('_')[0]\n",
    "            newPic = path + num + '-u_'+name.split('_')[1]\n",
    "            picu = readPicture(newPic)#reads a picture with Ending U\n",
    "            yuvPic[:,:,1] = picu # packs the u in pos 0\n",
    "            newPic = path + num + '-v_'+name.split('_')[1] #Generates the Name for v\n",
    "            picv = readPicture(newPic)#reads the new picture with ending V\n",
    "            yuvPic[:,:,2] = picv # packs the u in pos 2\n",
    "            #Right for the Testdata ist: 0y2u1v <<<<<<<<<<<<<\n",
    "\n",
    "            if(wantYUV != 'y'):\n",
    "                yuvPic = yuvPic/((2**10)-1)\n",
    "                rgbPic = YUVtoRGB(yuvPic) # to YUV to RGB conversion Matrix needs to have the Format Y[0] U[1] V[2]\n",
    "                savePic(rgbPic,(str(i)+namePic),outputextention,outputpath)#saves final RGB pic\n",
    "                \n",
    "                savePic(bgrPic,(str(i)+namePic+'BGR'),outputextention,outputpath)#saves final RGB pic\n",
    "            if(wantYUV == 'y'):\n",
    "                yuvPic = YUVtoRGB(yuvPic)\n",
    "                savePic(yuvPic,(str(i)+namePic),outputextention,outputpath)#saves final YUV pic\n",
    "    except:\n",
    "        print('')\n",
    "    i = i + 1\n",
    "\n",
    "print(\"--- %s seconds ---\" % (time.time() - start_time))\n",
    "print(str((time.time() - start_time)/60))\n",
    "print('------------------------- Done --------------------')"
   ]
  },
  {
   "cell_type": "code",
   "execution_count": 28,
   "metadata": {},
   "outputs": [
    {
     "data": {
      "text/plain": [
       "array([[[-0.37116456,  0.2890378 ,  0.6126096 ],\n",
       "        [-0.3248817 ,  0.34135875,  0.9111116 ],\n",
       "        [-0.32480624,  0.28649974,  1.0455408 ],\n",
       "        ...,\n",
       "        [-0.24928568,  0.09636865,  0.38866508],\n",
       "        [-0.28654456,  0.14526924,  0.28773755],\n",
       "        [ 0.02510339,  0.26584744,  0.4994839 ]],\n",
       "\n",
       "       [[-0.2933061 ,  0.23562722,  0.61170304],\n",
       "        [-0.16991943,  0.17848359,  0.75312257],\n",
       "        [-0.09168208,  0.07128412,  0.8920442 ],\n",
       "        ...,\n",
       "        [-0.38557157,  0.09784728,  0.28537044],\n",
       "        [-0.28464854,  0.1588051 ,  0.3327823 ],\n",
       "        [-0.03416187,  0.28054547,  0.4665364 ]],\n",
       "\n",
       "       [[-0.34528613,  0.14813113,  0.76155347],\n",
       "        [-0.29216322, -0.01623017,  0.8128936 ],\n",
       "        [ 0.08482295, -0.02196774,  1.1298689 ],\n",
       "        ...,\n",
       "        [-0.4059083 ,  0.04232828,  0.38698304],\n",
       "        [-0.35271293,  0.08764607,  0.25099266],\n",
       "        [-0.24238096,  0.13891625,  0.3519404 ]],\n",
       "\n",
       "       ...,\n",
       "\n",
       "       [[-0.11885113,  0.14158061,  0.92423636],\n",
       "        [ 0.20494585,  0.13192758,  0.8997396 ],\n",
       "        [ 0.23560818,  0.00228456,  0.82286566],\n",
       "        ...,\n",
       "        [ 0.11539733,  0.4727594 ,  0.59169865],\n",
       "        [-0.00836363,  0.35135427,  0.4699107 ],\n",
       "        [-0.01481393,  0.3296686 ,  0.5264081 ]],\n",
       "\n",
       "       [[-0.04585204,  0.2652477 ,  0.75242764],\n",
       "        [-0.2331229 ,  0.09513505,  0.41920543],\n",
       "        [ 0.12451072,  0.23050156,  0.5995958 ],\n",
       "        ...,\n",
       "        [-0.10321966,  0.38209414,  0.4913755 ],\n",
       "        [-0.03332862,  0.3524977 ,  0.42005122],\n",
       "        [-0.08090687,  0.28154403,  0.49763057]],\n",
       "\n",
       "       [[-0.2906539 ,  0.2961015 ,  0.731809  ],\n",
       "        [-0.04365405,  0.3286962 ,  0.8059233 ],\n",
       "        [-0.00623813,  0.24723415,  0.6279905 ],\n",
       "        ...,\n",
       "        [ 0.01644582,  0.4403978 ,  0.5863703 ],\n",
       "        [-0.07536677,  0.2881012 ,  0.4483555 ],\n",
       "        [-0.12218717,  0.24543597,  0.5386162 ]]], dtype=float32)"
      ]
     },
     "execution_count": 28,
     "metadata": {},
     "output_type": "execute_result"
    }
   ],
   "source": [
    "YUVtoRGB(yuvPic)"
   ]
  },
  {
   "cell_type": "code",
   "execution_count": 11,
   "metadata": {},
   "outputs": [
    {
     "data": {
      "text/plain": [
       "array([[[0.32942326, 0.16422287, 0.69110459],\n",
       "        [0.43695015, 0.12512219, 0.79960899],\n",
       "        [0.44379277, 0.12121212, 0.87878788],\n",
       "        ...,\n",
       "        [0.18670577, 0.30694037, 0.65493646],\n",
       "        [0.18181818, 0.2913001 , 0.59530792],\n",
       "        [0.32746823, 0.36168133, 0.62170088]],\n",
       "\n",
       "       [[0.30987292, 0.21407625, 0.70478983],\n",
       "        [0.32942326, 0.26392962, 0.77908113],\n",
       "        [0.31867058, 0.30889541, 0.87390029],\n",
       "        ...,\n",
       "        [0.14760508, 0.26197458, 0.61876833],\n",
       "        [0.20039101, 0.28152493, 0.60997067],\n",
       "        [0.32062561, 0.33626588, 0.60606061]],\n",
       "\n",
       "       [[0.29912023, 0.1945259 , 0.80645161],\n",
       "        [0.23460411, 0.25806452, 0.8856305 ],\n",
       "        [0.34995112, 0.37829912, 1.        ],\n",
       "        ...,\n",
       "        [0.14369501, 0.25415445, 0.68523949],\n",
       "        [0.13685239, 0.28445748, 0.60508309],\n",
       "        [0.19941349, 0.3030303 , 0.6226784 ]],\n",
       "\n",
       "       ...,\n",
       "\n",
       "       [[0.3597263 , 0.27174976, 0.86412512],\n",
       "        [0.38025415, 0.42033236, 0.83382209],\n",
       "        [0.29814272, 0.48289345, 0.8455523 ],\n",
       "        ...,\n",
       "        [0.46432063, 0.32746823, 0.57966764],\n",
       "        [0.3597263 , 0.32649071, 0.57966764],\n",
       "        [0.36265885, 0.32160313, 0.61290323]],\n",
       "\n",
       "       [[0.38514174, 0.29325513, 0.73802542],\n",
       "        [0.19550342, 0.30987292, 0.66764418],\n",
       "        [0.34506354, 0.40078201, 0.67155425],\n",
       "        ...,\n",
       "        [0.3714565 , 0.27272727, 0.58455523],\n",
       "        [0.34506354, 0.32258065, 0.55913978],\n",
       "        [0.32453568, 0.31085044, 0.6226784 ]],\n",
       "\n",
       "       [[0.3714565 , 0.17986315, 0.73509286],\n",
       "        [0.43108504, 0.26783969, 0.73802542],\n",
       "        [0.34799609, 0.33431085, 0.68719453],\n",
       "        ...,\n",
       "        [0.43695015, 0.29423265, 0.59628543],\n",
       "        [0.31573803, 0.31867058, 0.59824047],\n",
       "        [0.31280547, 0.2971652 , 0.6568915 ]]])"
      ]
     },
     "execution_count": 11,
     "metadata": {},
     "output_type": "execute_result"
    }
   ],
   "source": [
    "yuvPic"
   ]
  },
  {
   "cell_type": "code",
   "execution_count": null,
   "metadata": {},
   "outputs": [],
   "source": []
  }
 ],
 "metadata": {
  "kernelspec": {
   "display_name": "Python 3",
   "language": "python",
   "name": "python3"
  },
  "language_info": {
   "codemirror_mode": {
    "name": "ipython",
    "version": 3
   },
   "file_extension": ".py",
   "mimetype": "text/x-python",
   "name": "python",
   "nbconvert_exporter": "python",
   "pygments_lexer": "ipython3",
   "version": "3.7.4"
  }
 },
 "nbformat": 4,
 "nbformat_minor": 2
}
