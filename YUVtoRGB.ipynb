{
 "cells": [
  {
   "cell_type": "code",
   "execution_count": null,
   "metadata": {},
   "outputs": [],
   "source": [
    "import cv2\n",
    "import numpy as np\n",
    "\n",
    "\n",
    "def make_lut_u():\n",
    "    return np.array([[[i,255-i,0] for i in range(256)]],dtype=np.uint8)\n",
    "\n",
    "def make_lut_v():\n",
    "    return np.array([[[0,255-i,i] for i in range(256)]],dtype=np.uint8)\n",
    "#Link to articel: https://stackoverflow.com/questions/43983265/rgb-to-yuv-conversion-and-accessing-y-u-and-v-channels"
   ]
  },
  {
   "cell_type": "code",
   "execution_count": null,
   "metadata": {},
   "outputs": [],
   "source": [
    "img = cv2.imread('shed.png')\n",
    "\n",
    "img_yuv = cv2.cvtColor(img, cv2.COLOR_BGR2YUV)\n",
    "y, u, v = cv2.split(img_yuv)\n",
    "\n",
    "lut_u, lut_v = make_lut_u(), make_lut_v()\n",
    "\n",
    "# Convert back to BGR so we can apply the LUT and stack the images\n",
    "y = cv2.cvtColor(y, cv2.COLOR_GRAY2BGR)\n",
    "u = cv2.cvtColor(u, cv2.COLOR_GRAY2BGR)\n",
    "v = cv2.cvtColor(v, cv2.COLOR_GRAY2BGR)\n",
    "\n",
    "u_mapped = cv2.LUT(u, lut_u)\n",
    "v_mapped = cv2.LUT(v, lut_v)\n",
    "\n",
    "result = np.vstack([img, y, u_mapped, v_mapped])\n",
    "\n",
    "cv2.imwrite('shed_combo.png', result)"
   ]
  }
 ],
 "metadata": {
  "kernelspec": {
   "display_name": "Python 3",
   "language": "python",
   "name": "python3"
  },
  "language_info": {
   "codemirror_mode": {
    "name": "ipython",
    "version": 3
   },
   "file_extension": ".py",
   "mimetype": "text/x-python",
   "name": "python",
   "nbconvert_exporter": "python",
   "pygments_lexer": "ipython3",
   "version": "3.7.4"
  }
 },
 "nbformat": 4,
 "nbformat_minor": 2
}
