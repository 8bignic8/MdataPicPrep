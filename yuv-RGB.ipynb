{
 "cells": [
  {
   "cell_type": "code",
   "execution_count": 4,
   "metadata": {},
   "outputs": [],
   "source": [
    "import argparse, os\n",
    "import cv2\n",
    "import numpy as np\n",
    "import imageio\n",
    "import time"
   ]
  },
  {
   "cell_type": "code",
   "execution_count": 5,
   "metadata": {},
   "outputs": [],
   "source": [
    "def readPicture(picturepath):\n",
    "    #  open ImageObject\n",
    "    img = cv2.imread(picturepath, cv2.IMREAD_UNCHANGED)#cv2.IMREAD_UNCHANGED is important that the output is (x,y,ChannelRGB)\n",
    "    print(img.shape)\n",
    "    #alternative\n",
    "    #img=imageio.imread(picturepath) #liest Bild von picturepath\n",
    "    return(img)"
   ]
  },
  {
   "cell_type": "code",
   "execution_count": 6,
   "metadata": {},
   "outputs": [],
   "source": [
    "def savePic(picture,fileName,extention,outPath):\n",
    "    outPath = outPath+fileName+'.'+extention # combines the path with the name and extention of the file\n",
    "    print(outPath)\n",
    "    try:\n",
    "        #imageio.imwrite(outPath,picture,format=extention)# old way\n",
    "        cv2.imwrite(outPath,picture)#saves Pictures \n",
    "    except:\n",
    "        print('Failed while saving picture: '+fileName+' to '+ outPath+' sorry :(') #writes an error\n",
    "        print('--------------------')"
   ]
  },
  {
   "cell_type": "code",
   "execution_count": 7,
   "metadata": {},
   "outputs": [],
   "source": [
    "def YUVtoRGB(img):\n",
    "    pictureYUV = cv2.cvtColor(img, cv2.COLOR_YUV2RGB, cv2.IMREAD_UNCHANGED) #uses the CV2 method to convert the color space from YU-V to RGB\n",
    "    return pictureYUV"
   ]
  },
  {
   "cell_type": "code",
   "execution_count": 8,
   "metadata": {},
   "outputs": [],
   "source": [
    "def RGBtoYUV(img):\n",
    "    pictureYUV = cv2.cvtColor(img, cv2.COLOR_RGB2YUV, cv2.IMREAD_UNCHANGED) #uses the CV2 method to convert the color space from RGB to YU-V\n",
    "    return pictureYUV"
   ]
  },
  {
   "cell_type": "code",
   "execution_count": 9,
   "metadata": {},
   "outputs": [],
   "source": [
    "def convert(img, target_type_min, target_type_max, target_type):\n",
    "    imin = img.min() # searches for the smalest number in the img array and saves it in imin\n",
    "    imax = img.max() # searches for the biggest number in the img array and saves it in imax\n",
    "\n",
    "    a = (target_type_max - target_type_min) / (imax - imin) # creates ratio of wanted to actual number value space\n",
    "    b = target_type_max - a * imax # Creates the maximal possible value in b\n",
    "    try:\n",
    "        new_img = (a * img + b).astype(target_type) # recalculates the image with the calculated values and sets the new type\n",
    "    except:\n",
    "        print('error while converting the image')\n",
    "    return new_img"
   ]
  },
  {
   "cell_type": "code",
   "execution_count": 10,
   "metadata": {},
   "outputs": [],
   "source": [
    "def hdrorpng(extention,yuvPic):\n",
    "    if (extention == 'hdr'): # when hdr than normalize in values between 0 and 1\n",
    "        print('HDR')\n",
    "        yuvPic = convert(yuvPic, 0, 1, np.float32) # send to convert in float 32\n",
    "        #print(yuvPic)\n",
    "    if (extention == 'png'): # when hdr than normalize in values between 0 and 255\n",
    "        yuvPic = convert(yuvPic, 0, 255, np.uint8) # normalisation to unit8\n",
    "    return yuvPic\n",
    "    "
   ]
  },
  {
   "cell_type": "code",
   "execution_count": 9,
   "metadata": {},
   "outputs": [
    {
     "name": "stdout",
     "output_type": "stream",
     "text": [
      "Path to Pictures who should be converted defaut: /home/nico/rohdaten/reallive/png/: \n",
      "What fileextention do the to read pictures have? [default: png]\n",
      "Please type Outputextention[default is: hdr]: png\n",
      "where to write the stiched pictures to? [default:/home/nico/rohdaten/klein/png/]: \n",
      "what should be the Name of the stiched Pictures? [default: pred]\n",
      "do you want to keep YUV color space type y? [deflaut: no (RGB_color space)]\n"
     ]
    }
   ],
   "source": [
    "start_time = time.time() #start Timer\n",
    "#toDo Add parser with args\n",
    "###### Imput section\n",
    "path = input('Path to pictures who should be converted defaut: /home/nico/rohdaten/reallive/png/: ') or '/home/nico/rohdaten/reallive/png/'\n",
    "inputextention = input('What fileextention do the to read pictures have? [default: png]') or 'png'\n",
    "outputextention = input('Please type outputextention[default is: hdr]: ') or 'hdr'\n",
    "outputpath = input('Where to write the stiched pictures to? [default:/home/nico/rohdaten/klein/png/]: ') or '/home/nico/rohdaten/klein/png/'\n",
    "namePic = input('What should be the name of the stiched pictures? [default: pred]') or 'pred'\n",
    "wantYUV = input('Do you want to keep YUV color space type y? [deflaut: no (RGB_color space)]') or 'no'\n",
    "aOp = sum(1 for f in os.listdir(path) if f.endswith('.'+inputextention)) #summ all ending with extention"
   ]
  },
  {
   "cell_type": "code",
   "execution_count": 11,
   "metadata": {
    "scrolled": true
   },
   "outputs": [
    {
     "ename": "NameError",
     "evalue": "name 'path' is not defined",
     "output_type": "error",
     "traceback": [
      "\u001b[0;31m---------------------------------------------------------------------------\u001b[0m",
      "\u001b[0;31mNameError\u001b[0m                                 Traceback (most recent call last)",
      "\u001b[0;32m<ipython-input-11-fee8bc57d121>\u001b[0m in \u001b[0;36m<module>\u001b[0;34m\u001b[0m\n\u001b[1;32m      1\u001b[0m \u001b[0;31m####This file creates Y.png U.png and V.png cromagan pictures\u001b[0m\u001b[0;34m\u001b[0m\u001b[0;34m\u001b[0m\u001b[0;34m\u001b[0m\u001b[0m\n\u001b[1;32m      2\u001b[0m \u001b[0;31m#TO DO normal Pic to YUV einzelbildern\u001b[0m\u001b[0;34m\u001b[0m\u001b[0;34m\u001b[0m\u001b[0;34m\u001b[0m\u001b[0m\n\u001b[0;32m----> 3\u001b[0;31m \u001b[0maOp\u001b[0m \u001b[0;34m=\u001b[0m \u001b[0msum\u001b[0m\u001b[0;34m(\u001b[0m\u001b[0;36m1\u001b[0m \u001b[0;32mfor\u001b[0m \u001b[0mf\u001b[0m \u001b[0;32min\u001b[0m \u001b[0mos\u001b[0m\u001b[0;34m.\u001b[0m\u001b[0mlistdir\u001b[0m\u001b[0;34m(\u001b[0m\u001b[0mpath\u001b[0m\u001b[0;34m)\u001b[0m \u001b[0;32mif\u001b[0m \u001b[0mf\u001b[0m\u001b[0;34m.\u001b[0m\u001b[0mendswith\u001b[0m\u001b[0;34m(\u001b[0m\u001b[0;34m'.'\u001b[0m\u001b[0;34m+\u001b[0m\u001b[0minputextention\u001b[0m\u001b[0;34m)\u001b[0m\u001b[0;34m)\u001b[0m \u001b[0;31m#summ all ending with extention\u001b[0m\u001b[0;34m\u001b[0m\u001b[0;34m\u001b[0m\u001b[0m\n\u001b[0m\u001b[1;32m      4\u001b[0m \u001b[0mi\u001b[0m \u001b[0;34m=\u001b[0m \u001b[0;36m0\u001b[0m \u001b[0;31m# start at the 0th element in the file system\u001b[0m\u001b[0;34m\u001b[0m\u001b[0;34m\u001b[0m\u001b[0m\n\u001b[1;32m      5\u001b[0m \u001b[0;31m#print(aOp)\u001b[0m\u001b[0;34m\u001b[0m\u001b[0;34m\u001b[0m\u001b[0;34m\u001b[0m\u001b[0m\n",
      "\u001b[0;31mNameError\u001b[0m: name 'path' is not defined"
     ]
    }
   ],
   "source": []
  },
  {
   "cell_type": "code",
   "execution_count": null,
   "metadata": {},
   "outputs": [],
   "source": []
  },
  {
   "cell_type": "code",
   "execution_count": 12,
   "metadata": {
    "scrolled": true
   },
   "outputs": [
    {
     "name": "stdout",
     "output_type": "stream",
     "text": [
      "Pictures in the folder need to have the format: [number]-[y]or[u]or[v].png e.g. : 28-y_pred.png,28-u_pred.png,28-v_pred.png\n"
     ]
    },
    {
     "ename": "NameError",
     "evalue": "name 'aOp' is not defined",
     "output_type": "error",
     "traceback": [
      "\u001b[0;31m---------------------------------------------------------------------------\u001b[0m",
      "\u001b[0;31mNameError\u001b[0m                                 Traceback (most recent call last)",
      "\u001b[0;32m<ipython-input-12-de3ccf5c34cf>\u001b[0m in \u001b[0;36m<module>\u001b[0;34m\u001b[0m\n\u001b[1;32m     13\u001b[0m \u001b[0mstart_time\u001b[0m \u001b[0;34m=\u001b[0m \u001b[0mtime\u001b[0m\u001b[0;34m.\u001b[0m\u001b[0mtime\u001b[0m\u001b[0;34m(\u001b[0m\u001b[0;34m)\u001b[0m\u001b[0;34m\u001b[0m\u001b[0;34m\u001b[0m\u001b[0m\n\u001b[1;32m     14\u001b[0m \u001b[0mi\u001b[0m \u001b[0;34m=\u001b[0m \u001b[0;36m0\u001b[0m\u001b[0;34m\u001b[0m\u001b[0;34m\u001b[0m\u001b[0m\n\u001b[0;32m---> 15\u001b[0;31m \u001b[0mprint\u001b[0m\u001b[0;34m(\u001b[0m\u001b[0maOp\u001b[0m\u001b[0;34m)\u001b[0m\u001b[0;34m\u001b[0m\u001b[0;34m\u001b[0m\u001b[0m\n\u001b[0m\u001b[1;32m     16\u001b[0m \u001b[0;32mwhile\u001b[0m \u001b[0;34m(\u001b[0m\u001b[0mi\u001b[0m \u001b[0;34m<=\u001b[0m \u001b[0maOp\u001b[0m\u001b[0;34m-\u001b[0m\u001b[0;36m1\u001b[0m \u001b[0;34m)\u001b[0m\u001b[0;34m:\u001b[0m \u001b[0;31m# read y\u001b[0m\u001b[0;34m\u001b[0m\u001b[0;34m\u001b[0m\u001b[0m\n\u001b[1;32m     17\u001b[0m     \u001b[0;32mif\u001b[0m \u001b[0;34m(\u001b[0m\u001b[0;34m(\u001b[0m\u001b[0mstr\u001b[0m\u001b[0;34m(\u001b[0m\u001b[0mos\u001b[0m\u001b[0;34m.\u001b[0m\u001b[0mlistdir\u001b[0m\u001b[0;34m(\u001b[0m\u001b[0mpath\u001b[0m\u001b[0;34m)\u001b[0m\u001b[0;34m[\u001b[0m\u001b[0mi\u001b[0m\u001b[0;34m]\u001b[0m\u001b[0;34m)\u001b[0m\u001b[0;34m.\u001b[0m\u001b[0msplit\u001b[0m\u001b[0;34m(\u001b[0m\u001b[0;34m'-'\u001b[0m\u001b[0;34m)\u001b[0m\u001b[0;34m[\u001b[0m\u001b[0;36m1\u001b[0m\u001b[0;34m]\u001b[0m\u001b[0;34m)\u001b[0m\u001b[0;34m.\u001b[0m\u001b[0msplit\u001b[0m\u001b[0;34m(\u001b[0m\u001b[0;34m'_'\u001b[0m\u001b[0;34m)\u001b[0m\u001b[0;34m[\u001b[0m\u001b[0;36m0\u001b[0m\u001b[0;34m]\u001b[0m\u001b[0;34m)\u001b[0m \u001b[0;34m==\u001b[0m \u001b[0;34m'y'\u001b[0m\u001b[0;34m:\u001b[0m \u001b[0;31m# only searching for y picitures\u001b[0m\u001b[0;34m\u001b[0m\u001b[0;34m\u001b[0m\u001b[0m\n",
      "\u001b[0;31mNameError\u001b[0m: name 'aOp' is not defined"
     ]
    }
   ],
   "source": [
    "#Working Version 24012021\n",
    "\n",
    "print('Pictures in the folder need to have the format: [number]-[y]or[u]or[v].png e.g. : 28-y_pred.png,28-u_pred.png,28-v_pred.png')\n",
    "#TO DO Parser\n",
    "#desc ='yuv to RGB'\n",
    "#parser = argparse.ArgumentParser(description=desc)\n",
    "#parser.add_argument('--yuv', type=str, default='./', help='path to Folder of yuv images')\n",
    "#print(parser.parse_args())\n",
    "#what, b = parser.parse_known_args()\n",
    "\n",
    "#if what.yuv == './' :\n",
    " #   print('yes')\n",
    "start_time = time.time()\n",
    "i = 0\n",
    "print(aOp)\n",
    "while (i <= aOp-1 ): # read y\n",
    "    if ((str(os.listdir(path)[i]).split('-')[1]).split('_')[0]) == 'y': # only searching for y picitures\n",
    "        name = os.listdir(path)[i] #finding the Name\n",
    "        print(name +' should be the Y')\n",
    "        picpath = path + name #combining Name and path\n",
    "        picy = readPicture(picpath) #reads a pic y to find the x,y axes should be the same for all pictures\n",
    "        #print(picpath)\n",
    "        yuvPic = np.zeros((int(picy.shape[0]),int(picy.shape[1]),3)) # generates the x and y achses and channels of picture\n",
    "        #yuvPic = (yuvPic+1)* 255 # makes all the pixels Black for testing\n",
    "        yuvPic[:,:,0] = picy # packs the Y in pos 1\n",
    "        num = (str(os.listdir(path)[i]).split('-')[0])#.split('_')[0]\n",
    "        newPic = path + num + '-u_'+name.split('_')[1]\n",
    "        picu = readPicture(newPic)#reads a pic u\n",
    "        #print(newPic+'should b u')\n",
    "        #savePic(((picy+1)*255),str(i)+'Nbild42','png','/home/nico/rohdaten/klein/png/')\n",
    "        yuvPic[:,:,2] = picu # packs the u in pos 0\n",
    "        #print(yuvPic[:,:,1])\n",
    "        newPic = path + num + '-v_'+name.split('_')[1] #Generates the Name for v\n",
    "        #print(newPic+'should beV')\n",
    "        picv = readPicture(newPic)#reads a pic v\n",
    "        yuvPic[:,:,1] = picv # packs the u in pos 2\n",
    "        #Right for the Testdata ist: 0y2u1v <<<<<<<<<<<<<\n",
    "        #print(yuvPic)\n",
    "        #TO DO choose if output is RGB oder YUV\n",
    "        if(wantYUV != 'y'):\n",
    "            yuvPic = hdrorpng(outputextention,yuvPic) # normalize after conversion\n",
    "            rgbPic = YUVtoRGB(yuvPic) # to YUV to RGB conversion Matrix needs to have the Format Y[0] U[1] V[2]\n",
    "            savePic(rgbPic,(str(i)+namePic),outputextention,outputpath)#saves final RGB pic\n",
    "        if(wantYUV == 'y'):\n",
    "            yuvPic = hdrorpng(outputextention,yuvPic) # normalize after conversion\n",
    "            savePic(yuvPic,(str(i)+namePic),outputextention,outputpath)#saves final YUV pic\n",
    "    i = i + 1\n",
    "\n",
    "print(\"--- %s seconds ---\" % (time.time() - start_time))\n",
    "print(str((time.time() - start_time)/60))\n",
    "print('------------------------- Done --------------------')\n",
    "#if (path.split('.')[1] == str(extention)): \n",
    "#    yuvPic[:,:,0] = picturearray"
   ]
  },
  {
   "cell_type": "code",
   "execution_count": null,
   "metadata": {},
   "outputs": [],
   "source": []
  },
  {
   "cell_type": "code",
   "execution_count": null,
   "metadata": {},
   "outputs": [],
   "source": []
  },
  {
   "cell_type": "code",
   "execution_count": null,
   "metadata": {},
   "outputs": [],
   "source": []
  }
 ],
 "metadata": {
  "kernelspec": {
   "display_name": "Python 3",
   "language": "python",
   "name": "python3"
  },
  "language_info": {
   "codemirror_mode": {
    "name": "ipython",
    "version": 3
   },
   "file_extension": ".py",
   "mimetype": "text/x-python",
   "name": "python",
   "nbconvert_exporter": "python",
   "pygments_lexer": "ipython3",
   "version": "3.7.4"
  }
 },
 "nbformat": 4,
 "nbformat_minor": 2
}
